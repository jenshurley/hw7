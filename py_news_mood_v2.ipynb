{
 "cells": [
  {
   "cell_type": "markdown",
   "metadata": {},
   "source": [
    "## Observations\n",
    "- sentiment cluster around the neutral axis\n",
    "- for the last 100 tweets, nyt and cnn -  mean of scores closest to neutral\n",
    "- but when you run it the next day, that changes"
   ]
  },
  {
   "cell_type": "code",
   "execution_count": 1,
   "metadata": {},
   "outputs": [],
   "source": [
    "import pandas as pd\n",
    "import tweepy\n",
    "import matplotlib.pyplot as plt\n",
    "from vaderSentiment.vaderSentiment import SentimentIntensityAnalyzer\n",
    "from config import (consumer_key, consumer_secret, \n",
    "                    access_token, access_token_secret)"
   ]
  },
  {
   "cell_type": "code",
   "execution_count": 2,
   "metadata": {},
   "outputs": [],
   "source": [
    "auth = tweepy.OAuthHandler(consumer_key, consumer_secret)\n",
    "auth.set_access_token(access_token, access_token_secret)\n",
    "api = tweepy.API(auth)"
   ]
  },
  {
   "cell_type": "code",
   "execution_count": 3,
   "metadata": {},
   "outputs": [],
   "source": [
    "users = ['BBCWorld', 'CBSNews', 'CNN', 'FoxNews', 'nytimes']\n",
    "\n",
    "\n",
    "bbc_list = []\n",
    "cbs_list = []\n",
    "cnn_list = []\n",
    "fox_list = []\n",
    "nyt_list = []\n",
    "\n",
    "for status in tweepy.Cursor(api.user_timeline, id='BBCworld').items(100):\n",
    "    bbc_list.append(status)\n",
    "\n",
    "for status in tweepy.Cursor(api.user_timeline, id='CBSNews').items(100):\n",
    "    cbs_list.append(status)\n",
    "    \n",
    "for status in tweepy.Cursor(api.user_timeline, id='CNN').items(100):\n",
    "    cnn_list.append(status)\n",
    "    \n",
    "for status in tweepy.Cursor(api.user_timeline, id='FoxNews').items(100):\n",
    "    fox_list.append(status)\n",
    "    \n",
    "for status in tweepy.Cursor(api.user_timeline, id='nytimes').items(100):\n",
    "    nyt_list.append(status)"
   ]
  },
  {
   "cell_type": "code",
   "execution_count": 4,
   "metadata": {},
   "outputs": [],
   "source": [
    "bbcdf = pd.DataFrame([x._json for x in bbc_list])[['user', 'text', 'created_at']]"
   ]
  },
  {
   "cell_type": "code",
   "execution_count": 6,
   "metadata": {},
   "outputs": [],
   "source": [
    "bbcdf['name'] = bbcdf.user.map(lambda x: x.get('name'))"
   ]
  },
  {
   "cell_type": "code",
   "execution_count": 23,
   "metadata": {},
   "outputs": [],
   "source": [
    "tweets_ago = pd.Series(list(range(1,101)))"
   ]
  },
  {
   "cell_type": "code",
   "execution_count": 24,
   "metadata": {},
   "outputs": [],
   "source": [
    "bbcdf['tweets_ago'] = tweets_ago.values"
   ]
  },
  {
   "cell_type": "code",
   "execution_count": 25,
   "metadata": {},
   "outputs": [
    {
     "data": {
      "text/html": [
       "<div>\n",
       "<style scoped>\n",
       "    .dataframe tbody tr th:only-of-type {\n",
       "        vertical-align: middle;\n",
       "    }\n",
       "\n",
       "    .dataframe tbody tr th {\n",
       "        vertical-align: top;\n",
       "    }\n",
       "\n",
       "    .dataframe thead th {\n",
       "        text-align: right;\n",
       "    }\n",
       "</style>\n",
       "<table border=\"1\" class=\"dataframe\">\n",
       "  <thead>\n",
       "    <tr style=\"text-align: right;\">\n",
       "      <th></th>\n",
       "      <th>user</th>\n",
       "      <th>text</th>\n",
       "      <th>created_at</th>\n",
       "      <th>name</th>\n",
       "      <th>tweets_ago</th>\n",
       "    </tr>\n",
       "  </thead>\n",
       "  <tbody>\n",
       "    <tr>\n",
       "      <th>95</th>\n",
       "      <td>{'id': 742143, 'id_str': '742143', 'name': 'BB...</td>\n",
       "      <td>100 Women: 'Signing a gagging clause set me fr...</td>\n",
       "      <td>Sun Jun 24 01:36:26 +0000 2018</td>\n",
       "      <td>BBC News (World)</td>\n",
       "      <td>96</td>\n",
       "    </tr>\n",
       "    <tr>\n",
       "      <th>96</th>\n",
       "      <td>{'id': 742143, 'id_str': '742143', 'name': 'BB...</td>\n",
       "      <td>What impact has Donald Trump had on illegal im...</td>\n",
       "      <td>Sun Jun 24 01:14:34 +0000 2018</td>\n",
       "      <td>BBC News (World)</td>\n",
       "      <td>97</td>\n",
       "    </tr>\n",
       "    <tr>\n",
       "      <th>97</th>\n",
       "      <td>{'id': 742143, 'id_str': '742143', 'name': 'BB...</td>\n",
       "      <td>Kenya's 'contaminated sugar' row: What we know...</td>\n",
       "      <td>Sun Jun 24 01:12:13 +0000 2018</td>\n",
       "      <td>BBC News (World)</td>\n",
       "      <td>98</td>\n",
       "    </tr>\n",
       "    <tr>\n",
       "      <th>98</th>\n",
       "      <td>{'id': 742143, 'id_str': '742143', 'name': 'BB...</td>\n",
       "      <td>Europe migrants: Can the EU reach a new deal? ...</td>\n",
       "      <td>Sun Jun 24 01:09:49 +0000 2018</td>\n",
       "      <td>BBC News (World)</td>\n",
       "      <td>99</td>\n",
       "    </tr>\n",
       "    <tr>\n",
       "      <th>99</th>\n",
       "      <td>{'id': 742143, 'id_str': '742143', 'name': 'BB...</td>\n",
       "      <td>How many words do you need to speak a language...</td>\n",
       "      <td>Sun Jun 24 01:07:22 +0000 2018</td>\n",
       "      <td>BBC News (World)</td>\n",
       "      <td>100</td>\n",
       "    </tr>\n",
       "  </tbody>\n",
       "</table>\n",
       "</div>"
      ],
      "text/plain": [
       "                                                 user  \\\n",
       "95  {'id': 742143, 'id_str': '742143', 'name': 'BB...   \n",
       "96  {'id': 742143, 'id_str': '742143', 'name': 'BB...   \n",
       "97  {'id': 742143, 'id_str': '742143', 'name': 'BB...   \n",
       "98  {'id': 742143, 'id_str': '742143', 'name': 'BB...   \n",
       "99  {'id': 742143, 'id_str': '742143', 'name': 'BB...   \n",
       "\n",
       "                                                 text  \\\n",
       "95  100 Women: 'Signing a gagging clause set me fr...   \n",
       "96  What impact has Donald Trump had on illegal im...   \n",
       "97  Kenya's 'contaminated sugar' row: What we know...   \n",
       "98  Europe migrants: Can the EU reach a new deal? ...   \n",
       "99  How many words do you need to speak a language...   \n",
       "\n",
       "                        created_at              name  tweets_ago  \n",
       "95  Sun Jun 24 01:36:26 +0000 2018  BBC News (World)          96  \n",
       "96  Sun Jun 24 01:14:34 +0000 2018  BBC News (World)          97  \n",
       "97  Sun Jun 24 01:12:13 +0000 2018  BBC News (World)          98  \n",
       "98  Sun Jun 24 01:09:49 +0000 2018  BBC News (World)          99  \n",
       "99  Sun Jun 24 01:07:22 +0000 2018  BBC News (World)         100  "
      ]
     },
     "execution_count": 25,
     "metadata": {},
     "output_type": "execute_result"
    }
   ],
   "source": [
    "bbcdf.tail()"
   ]
  },
  {
   "cell_type": "code",
   "execution_count": 26,
   "metadata": {},
   "outputs": [],
   "source": [
    "cbsdf = pd.DataFrame([x._json for x in cbs_list])[['user', 'text', 'created_at']]\n",
    "cbsdf['name'] = cbsdf.user.map(lambda x: x.get('name'))\n",
    "cbsdf['tweets_ago'] = tweets_ago.values"
   ]
  },
  {
   "cell_type": "code",
   "execution_count": 27,
   "metadata": {},
   "outputs": [
    {
     "data": {
      "text/html": [
       "<div>\n",
       "<style scoped>\n",
       "    .dataframe tbody tr th:only-of-type {\n",
       "        vertical-align: middle;\n",
       "    }\n",
       "\n",
       "    .dataframe tbody tr th {\n",
       "        vertical-align: top;\n",
       "    }\n",
       "\n",
       "    .dataframe thead th {\n",
       "        text-align: right;\n",
       "    }\n",
       "</style>\n",
       "<table border=\"1\" class=\"dataframe\">\n",
       "  <thead>\n",
       "    <tr style=\"text-align: right;\">\n",
       "      <th></th>\n",
       "      <th>user</th>\n",
       "      <th>text</th>\n",
       "      <th>created_at</th>\n",
       "      <th>name</th>\n",
       "      <th>tweets_ago</th>\n",
       "    </tr>\n",
       "  </thead>\n",
       "  <tbody>\n",
       "    <tr>\n",
       "      <th>0</th>\n",
       "      <td>{'id': 15012486, 'id_str': '15012486', 'name':...</td>\n",
       "      <td>A very good dog on the Chicago Police Departme...</td>\n",
       "      <td>Tue Jun 26 01:20:38 +0000 2018</td>\n",
       "      <td>CBS News</td>\n",
       "      <td>1</td>\n",
       "    </tr>\n",
       "    <tr>\n",
       "      <th>1</th>\n",
       "      <td>{'id': 15012486, 'id_str': '15012486', 'name':...</td>\n",
       "      <td>Not only did he risk his life, trekking 600 mi...</td>\n",
       "      <td>Tue Jun 26 01:00:58 +0000 2018</td>\n",
       "      <td>CBS News</td>\n",
       "      <td>2</td>\n",
       "    </tr>\n",
       "    <tr>\n",
       "      <th>2</th>\n",
       "      <td>{'id': 15012486, 'id_str': '15012486', 'name':...</td>\n",
       "      <td>\"It's the party of Maxine Waters. Do you belie...</td>\n",
       "      <td>Tue Jun 26 00:42:39 +0000 2018</td>\n",
       "      <td>CBS News</td>\n",
       "      <td>3</td>\n",
       "    </tr>\n",
       "    <tr>\n",
       "      <th>3</th>\n",
       "      <td>{'id': 15012486, 'id_str': '15012486', 'name':...</td>\n",
       "      <td>\"He's lost, he looks like a lost soul\": Presid...</td>\n",
       "      <td>Tue Jun 26 00:36:27 +0000 2018</td>\n",
       "      <td>CBS News</td>\n",
       "      <td>4</td>\n",
       "    </tr>\n",
       "    <tr>\n",
       "      <th>4</th>\n",
       "      <td>{'id': 15012486, 'id_str': '15012486', 'name':...</td>\n",
       "      <td>Child fires shot inside an Indiana Ikea after ...</td>\n",
       "      <td>Tue Jun 26 00:20:02 +0000 2018</td>\n",
       "      <td>CBS News</td>\n",
       "      <td>5</td>\n",
       "    </tr>\n",
       "  </tbody>\n",
       "</table>\n",
       "</div>"
      ],
      "text/plain": [
       "                                                user  \\\n",
       "0  {'id': 15012486, 'id_str': '15012486', 'name':...   \n",
       "1  {'id': 15012486, 'id_str': '15012486', 'name':...   \n",
       "2  {'id': 15012486, 'id_str': '15012486', 'name':...   \n",
       "3  {'id': 15012486, 'id_str': '15012486', 'name':...   \n",
       "4  {'id': 15012486, 'id_str': '15012486', 'name':...   \n",
       "\n",
       "                                                text  \\\n",
       "0  A very good dog on the Chicago Police Departme...   \n",
       "1  Not only did he risk his life, trekking 600 mi...   \n",
       "2  \"It's the party of Maxine Waters. Do you belie...   \n",
       "3  \"He's lost, he looks like a lost soul\": Presid...   \n",
       "4  Child fires shot inside an Indiana Ikea after ...   \n",
       "\n",
       "                       created_at      name  tweets_ago  \n",
       "0  Tue Jun 26 01:20:38 +0000 2018  CBS News           1  \n",
       "1  Tue Jun 26 01:00:58 +0000 2018  CBS News           2  \n",
       "2  Tue Jun 26 00:42:39 +0000 2018  CBS News           3  \n",
       "3  Tue Jun 26 00:36:27 +0000 2018  CBS News           4  \n",
       "4  Tue Jun 26 00:20:02 +0000 2018  CBS News           5  "
      ]
     },
     "execution_count": 27,
     "metadata": {},
     "output_type": "execute_result"
    }
   ],
   "source": [
    "cbsdf.head()"
   ]
  },
  {
   "cell_type": "code",
   "execution_count": 28,
   "metadata": {},
   "outputs": [],
   "source": [
    "cnndf = pd.DataFrame([x._json for x in cnn_list])[['user', 'text', 'created_at']]\n",
    "cnndf['name'] = cnndf.user.map(lambda x: x.get('name'))\n",
    "cnndf['tweets_ago'] = tweets_ago.values\n",
    "\n",
    "foxdf = pd.DataFrame([x._json for x in fox_list])[['user', 'text', 'created_at']]\n",
    "foxdf['name'] = foxdf.user.map(lambda x: x.get('name'))\n",
    "foxdf['tweets_ago'] = tweets_ago.values\n",
    "\n",
    "nytdf = pd.DataFrame([x._json for x in nyt_list])[['user', 'text', 'created_at']]\n",
    "nytdf['name'] = nytdf.user.map(lambda x: x.get('name'))\n",
    "nytdf['tweets_ago'] = tweets_ago.values"
   ]
  },
  {
   "cell_type": "code",
   "execution_count": 30,
   "metadata": {},
   "outputs": [],
   "source": [
    "combined_df = pd.concat([bbcdf, cbsdf, cnndf, foxdf, nytdf])"
   ]
  },
  {
   "cell_type": "code",
   "execution_count": 32,
   "metadata": {},
   "outputs": [
    {
     "data": {
      "text/html": [
       "<div>\n",
       "<style scoped>\n",
       "    .dataframe tbody tr th:only-of-type {\n",
       "        vertical-align: middle;\n",
       "    }\n",
       "\n",
       "    .dataframe tbody tr th {\n",
       "        vertical-align: top;\n",
       "    }\n",
       "\n",
       "    .dataframe thead th {\n",
       "        text-align: right;\n",
       "    }\n",
       "</style>\n",
       "<table border=\"1\" class=\"dataframe\">\n",
       "  <thead>\n",
       "    <tr style=\"text-align: right;\">\n",
       "      <th></th>\n",
       "      <th>user</th>\n",
       "      <th>text</th>\n",
       "      <th>created_at</th>\n",
       "      <th>name</th>\n",
       "      <th>tweets_ago</th>\n",
       "    </tr>\n",
       "  </thead>\n",
       "  <tbody>\n",
       "    <tr>\n",
       "      <th>95</th>\n",
       "      <td>{'id': 807095, 'id_str': '807095', 'name': 'Th...</td>\n",
       "      <td>For the second time this month, the authoritie...</td>\n",
       "      <td>Mon Jun 25 07:59:05 +0000 2018</td>\n",
       "      <td>The New York Times</td>\n",
       "      <td>96</td>\n",
       "    </tr>\n",
       "    <tr>\n",
       "      <th>96</th>\n",
       "      <td>{'id': 807095, 'id_str': '807095', 'name': 'Th...</td>\n",
       "      <td>RT @nytimesworld: Kim Jong-pil, who died Satur...</td>\n",
       "      <td>Mon Jun 25 07:46:03 +0000 2018</td>\n",
       "      <td>The New York Times</td>\n",
       "      <td>97</td>\n",
       "    </tr>\n",
       "    <tr>\n",
       "      <th>97</th>\n",
       "      <td>{'id': 807095, 'id_str': '807095', 'name': 'Th...</td>\n",
       "      <td>Turkish voters gave Recep Tayyip Erdogan a dec...</td>\n",
       "      <td>Mon Jun 25 07:30:06 +0000 2018</td>\n",
       "      <td>The New York Times</td>\n",
       "      <td>98</td>\n",
       "    </tr>\n",
       "    <tr>\n",
       "      <th>98</th>\n",
       "      <td>{'id': 807095, 'id_str': '807095', 'name': 'Th...</td>\n",
       "      <td>Elizabeth Warren denounced President Trump's p...</td>\n",
       "      <td>Mon Jun 25 07:21:24 +0000 2018</td>\n",
       "      <td>The New York Times</td>\n",
       "      <td>99</td>\n",
       "    </tr>\n",
       "    <tr>\n",
       "      <th>99</th>\n",
       "      <td>{'id': 807095, 'id_str': '807095', 'name': 'Th...</td>\n",
       "      <td>Ever Felt Jealous of a Friend’s Accomplishment...</td>\n",
       "      <td>Mon Jun 25 07:04:09 +0000 2018</td>\n",
       "      <td>The New York Times</td>\n",
       "      <td>100</td>\n",
       "    </tr>\n",
       "  </tbody>\n",
       "</table>\n",
       "</div>"
      ],
      "text/plain": [
       "                                                 user  \\\n",
       "95  {'id': 807095, 'id_str': '807095', 'name': 'Th...   \n",
       "96  {'id': 807095, 'id_str': '807095', 'name': 'Th...   \n",
       "97  {'id': 807095, 'id_str': '807095', 'name': 'Th...   \n",
       "98  {'id': 807095, 'id_str': '807095', 'name': 'Th...   \n",
       "99  {'id': 807095, 'id_str': '807095', 'name': 'Th...   \n",
       "\n",
       "                                                 text  \\\n",
       "95  For the second time this month, the authoritie...   \n",
       "96  RT @nytimesworld: Kim Jong-pil, who died Satur...   \n",
       "97  Turkish voters gave Recep Tayyip Erdogan a dec...   \n",
       "98  Elizabeth Warren denounced President Trump's p...   \n",
       "99  Ever Felt Jealous of a Friend’s Accomplishment...   \n",
       "\n",
       "                        created_at                name  tweets_ago  \n",
       "95  Mon Jun 25 07:59:05 +0000 2018  The New York Times          96  \n",
       "96  Mon Jun 25 07:46:03 +0000 2018  The New York Times          97  \n",
       "97  Mon Jun 25 07:30:06 +0000 2018  The New York Times          98  \n",
       "98  Mon Jun 25 07:21:24 +0000 2018  The New York Times          99  \n",
       "99  Mon Jun 25 07:04:09 +0000 2018  The New York Times         100  "
      ]
     },
     "execution_count": 32,
     "metadata": {},
     "output_type": "execute_result"
    }
   ],
   "source": [
    "combined_df.tail()"
   ]
  },
  {
   "cell_type": "code",
   "execution_count": 33,
   "metadata": {},
   "outputs": [],
   "source": [
    "from sklearn.utils import shuffle"
   ]
  },
  {
   "cell_type": "code",
   "execution_count": 35,
   "metadata": {},
   "outputs": [],
   "source": [
    "shuffled = shuffle(combined_df)"
   ]
  },
  {
   "cell_type": "code",
   "execution_count": 36,
   "metadata": {},
   "outputs": [],
   "source": [
    "analyzer = SentimentIntensityAnalyzer()\n",
    "\n",
    "def get_sentiment(some_text):\n",
    "    return analyzer.polarity_scores(some_text)"
   ]
  },
  {
   "cell_type": "code",
   "execution_count": 37,
   "metadata": {},
   "outputs": [
    {
     "name": "stderr",
     "output_type": "stream",
     "text": [
      "/Users/jennifershurley/anaconda3/lib/python3.6/site-packages/ipykernel_launcher.py:1: SettingWithCopyWarning: \n",
      "A value is trying to be set on a copy of a slice from a DataFrame.\n",
      "Try using .loc[row_indexer,col_indexer] = value instead\n",
      "\n",
      "See the caveats in the documentation: http://pandas.pydata.org/pandas-docs/stable/indexing.html#indexing-view-versus-copy\n",
      "  \"\"\"Entry point for launching an IPython kernel.\n",
      "/Users/jennifershurley/anaconda3/lib/python3.6/site-packages/ipykernel_launcher.py:3: SettingWithCopyWarning: \n",
      "A value is trying to be set on a copy of a slice from a DataFrame.\n",
      "Try using .loc[row_indexer,col_indexer] = value instead\n",
      "\n",
      "See the caveats in the documentation: http://pandas.pydata.org/pandas-docs/stable/indexing.html#indexing-view-versus-copy\n",
      "  This is separate from the ipykernel package so we can avoid doing imports until\n",
      "/Users/jennifershurley/anaconda3/lib/python3.6/site-packages/ipykernel_launcher.py:4: SettingWithCopyWarning: \n",
      "A value is trying to be set on a copy of a slice from a DataFrame.\n",
      "Try using .loc[row_indexer,col_indexer] = value instead\n",
      "\n",
      "See the caveats in the documentation: http://pandas.pydata.org/pandas-docs/stable/indexing.html#indexing-view-versus-copy\n",
      "  after removing the cwd from sys.path.\n",
      "/Users/jennifershurley/anaconda3/lib/python3.6/site-packages/ipykernel_launcher.py:5: SettingWithCopyWarning: \n",
      "A value is trying to be set on a copy of a slice from a DataFrame.\n",
      "Try using .loc[row_indexer,col_indexer] = value instead\n",
      "\n",
      "See the caveats in the documentation: http://pandas.pydata.org/pandas-docs/stable/indexing.html#indexing-view-versus-copy\n",
      "  \"\"\"\n",
      "/Users/jennifershurley/anaconda3/lib/python3.6/site-packages/ipykernel_launcher.py:6: SettingWithCopyWarning: \n",
      "A value is trying to be set on a copy of a slice from a DataFrame.\n",
      "Try using .loc[row_indexer,col_indexer] = value instead\n",
      "\n",
      "See the caveats in the documentation: http://pandas.pydata.org/pandas-docs/stable/indexing.html#indexing-view-versus-copy\n",
      "  \n"
     ]
    }
   ],
   "source": [
    "shuffled['sent'] = shuffled.text.map(get_sentiment)\n",
    "\n",
    "shuffled['pos']= shuffled.sent.map(lambda x :x.get('pos'))\n",
    "shuffled['neg']= shuffled.sent.map(lambda x :x.get('neg'))\n",
    "shuffled['neu']= shuffled.sent.map(lambda x :x.get('neu'))\n",
    "shuffled['compound']= shuffled.sent.map(lambda x :x.get('compound'))"
   ]
  },
  {
   "cell_type": "code",
   "execution_count": 39,
   "metadata": {},
   "outputs": [
    {
     "data": {
      "text/html": [
       "<div>\n",
       "<style scoped>\n",
       "    .dataframe tbody tr th:only-of-type {\n",
       "        vertical-align: middle;\n",
       "    }\n",
       "\n",
       "    .dataframe tbody tr th {\n",
       "        vertical-align: top;\n",
       "    }\n",
       "\n",
       "    .dataframe thead th {\n",
       "        text-align: right;\n",
       "    }\n",
       "</style>\n",
       "<table border=\"1\" class=\"dataframe\">\n",
       "  <thead>\n",
       "    <tr style=\"text-align: right;\">\n",
       "      <th></th>\n",
       "      <th>user</th>\n",
       "      <th>text</th>\n",
       "      <th>created_at</th>\n",
       "      <th>name</th>\n",
       "      <th>tweets_ago</th>\n",
       "      <th>sent</th>\n",
       "      <th>pos</th>\n",
       "      <th>neg</th>\n",
       "      <th>neu</th>\n",
       "      <th>compound</th>\n",
       "    </tr>\n",
       "  </thead>\n",
       "  <tbody>\n",
       "    <tr>\n",
       "      <th>8</th>\n",
       "      <td>{'id': 742143, 'id_str': '742143', 'name': 'BB...</td>\n",
       "      <td>Trump to Waters: 'Be careful what you wish for...</td>\n",
       "      <td>Mon Jun 25 20:01:30 +0000 2018</td>\n",
       "      <td>BBC News (World)</td>\n",
       "      <td>9</td>\n",
       "      <td>{'neg': 0.0, 'neu': 0.677, 'pos': 0.323, 'comp...</td>\n",
       "      <td>0.323</td>\n",
       "      <td>0.0</td>\n",
       "      <td>0.677</td>\n",
       "      <td>0.5106</td>\n",
       "    </tr>\n",
       "    <tr>\n",
       "      <th>15</th>\n",
       "      <td>{'id': 1367531, 'id_str': '1367531', 'name': '...</td>\n",
       "      <td>.@POTUS on @karringtonsc: \"Katie we're all pul...</td>\n",
       "      <td>Tue Jun 26 00:06:17 +0000 2018</td>\n",
       "      <td>Fox News</td>\n",
       "      <td>16</td>\n",
       "      <td>{'neg': 0.0, 'neu': 0.777, 'pos': 0.223, 'comp...</td>\n",
       "      <td>0.223</td>\n",
       "      <td>0.0</td>\n",
       "      <td>0.777</td>\n",
       "      <td>0.5563</td>\n",
       "    </tr>\n",
       "    <tr>\n",
       "      <th>52</th>\n",
       "      <td>{'id': 759251, 'id_str': '759251', 'name': 'CN...</td>\n",
       "      <td>The College Board wants to cut thousands of ye...</td>\n",
       "      <td>Mon Jun 25 17:23:31 +0000 2018</td>\n",
       "      <td>CNN</td>\n",
       "      <td>53</td>\n",
       "      <td>{'neg': 0.1, 'neu': 0.9, 'pos': 0.0, 'compound...</td>\n",
       "      <td>0.000</td>\n",
       "      <td>0.1</td>\n",
       "      <td>0.900</td>\n",
       "      <td>-0.2732</td>\n",
       "    </tr>\n",
       "    <tr>\n",
       "      <th>10</th>\n",
       "      <td>{'id': 1367531, 'id_str': '1367531', 'name': '...</td>\n",
       "      <td>.@POTUS on @FLOTUS: \"She has done a tremendous...</td>\n",
       "      <td>Tue Jun 26 00:33:57 +0000 2018</td>\n",
       "      <td>Fox News</td>\n",
       "      <td>11</td>\n",
       "      <td>{'neg': 0.0, 'neu': 1.0, 'pos': 0.0, 'compound...</td>\n",
       "      <td>0.000</td>\n",
       "      <td>0.0</td>\n",
       "      <td>1.000</td>\n",
       "      <td>0.0000</td>\n",
       "    </tr>\n",
       "    <tr>\n",
       "      <th>62</th>\n",
       "      <td>{'id': 807095, 'id_str': '807095', 'name': 'Th...</td>\n",
       "      <td>Suarez took a free kick from inches outside th...</td>\n",
       "      <td>Mon Jun 25 14:13:34 +0000 2018</td>\n",
       "      <td>The New York Times</td>\n",
       "      <td>63</td>\n",
       "      <td>{'neg': 0.0, 'neu': 0.737, 'pos': 0.263, 'comp...</td>\n",
       "      <td>0.263</td>\n",
       "      <td>0.0</td>\n",
       "      <td>0.737</td>\n",
       "      <td>0.8176</td>\n",
       "    </tr>\n",
       "  </tbody>\n",
       "</table>\n",
       "</div>"
      ],
      "text/plain": [
       "                                                 user  \\\n",
       "8   {'id': 742143, 'id_str': '742143', 'name': 'BB...   \n",
       "15  {'id': 1367531, 'id_str': '1367531', 'name': '...   \n",
       "52  {'id': 759251, 'id_str': '759251', 'name': 'CN...   \n",
       "10  {'id': 1367531, 'id_str': '1367531', 'name': '...   \n",
       "62  {'id': 807095, 'id_str': '807095', 'name': 'Th...   \n",
       "\n",
       "                                                 text  \\\n",
       "8   Trump to Waters: 'Be careful what you wish for...   \n",
       "15  .@POTUS on @karringtonsc: \"Katie we're all pul...   \n",
       "52  The College Board wants to cut thousands of ye...   \n",
       "10  .@POTUS on @FLOTUS: \"She has done a tremendous...   \n",
       "62  Suarez took a free kick from inches outside th...   \n",
       "\n",
       "                        created_at                name  tweets_ago  \\\n",
       "8   Mon Jun 25 20:01:30 +0000 2018    BBC News (World)           9   \n",
       "15  Tue Jun 26 00:06:17 +0000 2018            Fox News          16   \n",
       "52  Mon Jun 25 17:23:31 +0000 2018                 CNN          53   \n",
       "10  Tue Jun 26 00:33:57 +0000 2018            Fox News          11   \n",
       "62  Mon Jun 25 14:13:34 +0000 2018  The New York Times          63   \n",
       "\n",
       "                                                 sent    pos  neg    neu  \\\n",
       "8   {'neg': 0.0, 'neu': 0.677, 'pos': 0.323, 'comp...  0.323  0.0  0.677   \n",
       "15  {'neg': 0.0, 'neu': 0.777, 'pos': 0.223, 'comp...  0.223  0.0  0.777   \n",
       "52  {'neg': 0.1, 'neu': 0.9, 'pos': 0.0, 'compound...  0.000  0.1  0.900   \n",
       "10  {'neg': 0.0, 'neu': 1.0, 'pos': 0.0, 'compound...  0.000  0.0  1.000   \n",
       "62  {'neg': 0.0, 'neu': 0.737, 'pos': 0.263, 'comp...  0.263  0.0  0.737   \n",
       "\n",
       "    compound  \n",
       "8     0.5106  \n",
       "15    0.5563  \n",
       "52   -0.2732  \n",
       "10    0.0000  \n",
       "62    0.8176  "
      ]
     },
     "execution_count": 39,
     "metadata": {},
     "output_type": "execute_result"
    }
   ],
   "source": [
    "shuffled.tail()"
   ]
  },
  {
   "cell_type": "code",
   "execution_count": 38,
   "metadata": {},
   "outputs": [
    {
     "data": {
      "text/html": [
       "<div>\n",
       "<style scoped>\n",
       "    .dataframe tbody tr th:only-of-type {\n",
       "        vertical-align: middle;\n",
       "    }\n",
       "\n",
       "    .dataframe tbody tr th {\n",
       "        vertical-align: top;\n",
       "    }\n",
       "\n",
       "    .dataframe thead th {\n",
       "        text-align: right;\n",
       "    }\n",
       "</style>\n",
       "<table border=\"1\" class=\"dataframe\">\n",
       "  <thead>\n",
       "    <tr style=\"text-align: right;\">\n",
       "      <th></th>\n",
       "      <th>pos</th>\n",
       "      <th>neg</th>\n",
       "      <th>neu</th>\n",
       "    </tr>\n",
       "  </thead>\n",
       "  <tbody>\n",
       "    <tr>\n",
       "      <th>count</th>\n",
       "      <td>500.000000</td>\n",
       "      <td>500.000000</td>\n",
       "      <td>500.000000</td>\n",
       "    </tr>\n",
       "    <tr>\n",
       "      <th>mean</th>\n",
       "      <td>0.066870</td>\n",
       "      <td>0.090858</td>\n",
       "      <td>0.842258</td>\n",
       "    </tr>\n",
       "    <tr>\n",
       "      <th>std</th>\n",
       "      <td>0.099057</td>\n",
       "      <td>0.124941</td>\n",
       "      <td>0.140761</td>\n",
       "    </tr>\n",
       "    <tr>\n",
       "      <th>min</th>\n",
       "      <td>0.000000</td>\n",
       "      <td>0.000000</td>\n",
       "      <td>0.398000</td>\n",
       "    </tr>\n",
       "    <tr>\n",
       "      <th>25%</th>\n",
       "      <td>0.000000</td>\n",
       "      <td>0.000000</td>\n",
       "      <td>0.740250</td>\n",
       "    </tr>\n",
       "    <tr>\n",
       "      <th>50%</th>\n",
       "      <td>0.000000</td>\n",
       "      <td>0.000000</td>\n",
       "      <td>0.847000</td>\n",
       "    </tr>\n",
       "    <tr>\n",
       "      <th>75%</th>\n",
       "      <td>0.126250</td>\n",
       "      <td>0.161500</td>\n",
       "      <td>1.000000</td>\n",
       "    </tr>\n",
       "    <tr>\n",
       "      <th>max</th>\n",
       "      <td>0.430000</td>\n",
       "      <td>0.602000</td>\n",
       "      <td>1.000000</td>\n",
       "    </tr>\n",
       "  </tbody>\n",
       "</table>\n",
       "</div>"
      ],
      "text/plain": [
       "              pos         neg         neu\n",
       "count  500.000000  500.000000  500.000000\n",
       "mean     0.066870    0.090858    0.842258\n",
       "std      0.099057    0.124941    0.140761\n",
       "min      0.000000    0.000000    0.398000\n",
       "25%      0.000000    0.000000    0.740250\n",
       "50%      0.000000    0.000000    0.847000\n",
       "75%      0.126250    0.161500    1.000000\n",
       "max      0.430000    0.602000    1.000000"
      ]
     },
     "execution_count": 38,
     "metadata": {},
     "output_type": "execute_result"
    }
   ],
   "source": [
    "shuffled[['pos', 'neg', 'neu']].describe()"
   ]
  },
  {
   "cell_type": "code",
   "execution_count": 40,
   "metadata": {},
   "outputs": [],
   "source": [
    "dfbar = shuffled[['name', 'compound']]"
   ]
  },
  {
   "cell_type": "code",
   "execution_count": 41,
   "metadata": {},
   "outputs": [],
   "source": [
    "dfbar = dfbar.groupby('name').mean()"
   ]
  },
  {
   "cell_type": "code",
   "execution_count": 42,
   "metadata": {},
   "outputs": [
    {
     "data": {
      "image/png": "[encoded data removed]",
      "text/plain": [
       "<matplotlib.figure.Figure at 0x11d993be0>"
      ]
     },
     "metadata": {},
     "output_type": "display_data"
    }
   ],
   "source": [
    "dfbar.plot.bar(color='c');"
   ]
  },
  {
   "cell_type": "code",
   "execution_count": 53,
   "metadata": {},
   "outputs": [
    {
     "data": {
      "image/png": "[encoded data removed]",
      "text/plain": [
       "<matplotlib.figure.Figure at 0x1522ebd4e0>"
      ]
     },
     "metadata": {},
     "output_type": "display_data"
    }
   ],
   "source": [
    "shuffled.plot.scatter(x='tweets_ago', y='compound', figsize=(10,10), s=30);"
   ]
  },
  {
   "cell_type": "code",
   "execution_count": 55,
   "metadata": {},
   "outputs": [],
   "source": [
    "import seaborn as sns"
   ]
  },
  {
   "cell_type": "code",
   "execution_count": 80,
   "metadata": {},
   "outputs": [
    {
     "data": {
      "image/png": "[encoded data removed]",
      "text/plain": [
       "<matplotlib.figure.Figure at 0x1a28e8ca58>"
      ]
     },
     "metadata": {},
     "output_type": "display_data"
    }
   ],
   "source": [
    "sns.lmplot( x=\"tweets_ago\", y=\"compound\", data=shuffled, fit_reg=False, hue='name', size=10, legend_out=True);"
   ]
  },
  {
   "cell_type": "code",
   "execution_count": null,
   "metadata": {},
   "outputs": [],
   "source": []
  }
 ],
 "metadata": {
  "kernelspec": {
   "display_name": "Python 3",
   "language": "python",
   "name": "python3"
  },
  "language_info": {
   "codemirror_mode": {
    "name": "ipython",
    "version": 3
   },
   "file_extension": ".py",
   "mimetype": "text/x-python",
   "name": "python",
   "nbconvert_exporter": "python",
   "pygments_lexer": "ipython3",
   "version": "3.6.4"
  }
 },
 "nbformat": 4,
 "nbformat_minor": 2
}
