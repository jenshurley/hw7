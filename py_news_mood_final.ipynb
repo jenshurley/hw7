{
 "cells": [
  {
   "cell_type": "markdown",
   "metadata": {},
   "source": [
    "## Observations\n",
    "- The bar graph showing mean sentiment score varies from day to to day. On June 25, the New York Times and CNN scores were closest to neutral, and all news sources showed scores on the negative side of the scale. It was a bad day, perhaps. On June 26, Fox News is the only one to show a positive score, while BBC and NYT are closest to neutral. On June 28, Fox News is still the only one to show a positive score (are they excited about Justice Kennedy's retirement?), while BBC and NYT are closest to neutral.\n",
    "- The scatterplot of tweet sentiment over time displays a pattern of sentiment cluster around the '0.0' score indicating neutrality. Other than that cluster of neutrality, which one might expect given the values of journalism to present balanced information, the pattern is random. All sources have dots everywhere, and we don't see a difference over time. There are more dots in the negative part of the plot, which, at a guess, may be due to the charged issue of separating families at the U.S. border. The scatterplot looked much the same on June 25 as it did on June 26. On June 28, the distribution still looks fairly random "
   ]
  },
  {
   "cell_type": "code",
   "execution_count": 1,
   "metadata": {},
   "outputs": [],
   "source": [
    "import pandas as pd\n",
    "import tweepy\n",
    "import matplotlib.pyplot as plt\n",
    "from vaderSentiment.vaderSentiment import SentimentIntensityAnalyzer\n",
    "from config import (consumer_key, consumer_secret, \n",
    "                    access_token, access_token_secret)"
   ]
  },
  {
   "cell_type": "code",
   "execution_count": 2,
   "metadata": {},
   "outputs": [],
   "source": [
    "auth = tweepy.OAuthHandler(consumer_key, consumer_secret)\n",
    "auth.set_access_token(access_token, access_token_secret)\n",
    "api = tweepy.API(auth)"
   ]
  },
  {
   "cell_type": "code",
   "execution_count": 3,
   "metadata": {},
   "outputs": [],
   "source": [
    "users = ['BBCWorld', 'CBSNews', 'CNN', 'FoxNews', 'nytimes']\n",
    "\n",
    "def get_tweets_by_handle(the_handle, count):\n",
    "    res_list = []\n",
    "    for status in tweepy.Cursor(api.user_timeline, id=the_handle).items(count):\n",
    "        res_list.append(status)\n",
    "    return pd.DataFrame([x._json for x in res_list])"
   ]
  },
  {
   "cell_type": "code",
   "execution_count": 4,
   "metadata": {},
   "outputs": [],
   "source": [
    "frames = [get_tweets_by_handle(x, 100) for x in users]"
   ]
  },
  {
   "cell_type": "code",
   "execution_count": 5,
   "metadata": {},
   "outputs": [],
   "source": [
    "df = pd.concat(frames, axis=0)"
   ]
  },
  {
   "cell_type": "code",
   "execution_count": 6,
   "metadata": {},
   "outputs": [],
   "source": [
    "df = df[['user', 'text', 'created_at']]"
   ]
  },
  {
   "cell_type": "code",
   "execution_count": 7,
   "metadata": {},
   "outputs": [],
   "source": [
    "df['name'] = df.user.map(lambda x: x.get('name'))"
   ]
  },
  {
   "cell_type": "code",
   "execution_count": 8,
   "metadata": {},
   "outputs": [
    {
     "data": {
      "text/html": [
       "<div>\n",
       "<style scoped>\n",
       "    .dataframe tbody tr th:only-of-type {\n",
       "        vertical-align: middle;\n",
       "    }\n",
       "\n",
       "    .dataframe tbody tr th {\n",
       "        vertical-align: top;\n",
       "    }\n",
       "\n",
       "    .dataframe thead th {\n",
       "        text-align: right;\n",
       "    }\n",
       "</style>\n",
       "<table border=\"1\" class=\"dataframe\">\n",
       "  <thead>\n",
       "    <tr style=\"text-align: right;\">\n",
       "      <th></th>\n",
       "      <th>user</th>\n",
       "      <th>text</th>\n",
       "      <th>created_at</th>\n",
       "      <th>name</th>\n",
       "    </tr>\n",
       "  </thead>\n",
       "  <tbody>\n",
       "    <tr>\n",
       "      <th>0</th>\n",
       "      <td>{'id': 742143, 'id_str': '742143', 'name': 'BB...</td>\n",
       "      <td>Charlottesville car attack suspect charged wit...</td>\n",
       "      <td>Thu Jun 28 16:42:58 +0000 2018</td>\n",
       "      <td>BBC News (World)</td>\n",
       "    </tr>\n",
       "    <tr>\n",
       "      <th>1</th>\n",
       "      <td>{'id': 742143, 'id_str': '742143', 'name': 'BB...</td>\n",
       "      <td>In pictures: Despair as Senegal crash out of W...</td>\n",
       "      <td>Thu Jun 28 16:21:29 +0000 2018</td>\n",
       "      <td>BBC News (World)</td>\n",
       "    </tr>\n",
       "    <tr>\n",
       "      <th>2</th>\n",
       "      <td>{'id': 742143, 'id_str': '742143', 'name': 'BB...</td>\n",
       "      <td>Reality Check: Which countries have military s...</td>\n",
       "      <td>Thu Jun 28 16:06:48 +0000 2018</td>\n",
       "      <td>BBC News (World)</td>\n",
       "    </tr>\n",
       "    <tr>\n",
       "      <th>3</th>\n",
       "      <td>{'id': 742143, 'id_str': '742143', 'name': 'BB...</td>\n",
       "      <td>RT @BBCAfrica: For months now, horrific images...</td>\n",
       "      <td>Thu Jun 28 16:03:03 +0000 2018</td>\n",
       "      <td>BBC News (World)</td>\n",
       "    </tr>\n",
       "    <tr>\n",
       "      <th>4</th>\n",
       "      <td>{'id': 742143, 'id_str': '742143', 'name': 'BB...</td>\n",
       "      <td>RT @BBCAfrica: FT  #SEN 0-1 #COL\\n\\nHeartbreak...</td>\n",
       "      <td>Thu Jun 28 15:56:37 +0000 2018</td>\n",
       "      <td>BBC News (World)</td>\n",
       "    </tr>\n",
       "  </tbody>\n",
       "</table>\n",
       "</div>"
      ],
      "text/plain": [
       "                                                user  \\\n",
       "0  {'id': 742143, 'id_str': '742143', 'name': 'BB...   \n",
       "1  {'id': 742143, 'id_str': '742143', 'name': 'BB...   \n",
       "2  {'id': 742143, 'id_str': '742143', 'name': 'BB...   \n",
       "3  {'id': 742143, 'id_str': '742143', 'name': 'BB...   \n",
       "4  {'id': 742143, 'id_str': '742143', 'name': 'BB...   \n",
       "\n",
       "                                                text  \\\n",
       "0  Charlottesville car attack suspect charged wit...   \n",
       "1  In pictures: Despair as Senegal crash out of W...   \n",
       "2  Reality Check: Which countries have military s...   \n",
       "3  RT @BBCAfrica: For months now, horrific images...   \n",
       "4  RT @BBCAfrica: FT  #SEN 0-1 #COL\\n\\nHeartbreak...   \n",
       "\n",
       "                       created_at              name  \n",
       "0  Thu Jun 28 16:42:58 +0000 2018  BBC News (World)  \n",
       "1  Thu Jun 28 16:21:29 +0000 2018  BBC News (World)  \n",
       "2  Thu Jun 28 16:06:48 +0000 2018  BBC News (World)  \n",
       "3  Thu Jun 28 16:03:03 +0000 2018  BBC News (World)  \n",
       "4  Thu Jun 28 15:56:37 +0000 2018  BBC News (World)  "
      ]
     },
     "execution_count": 8,
     "metadata": {},
     "output_type": "execute_result"
    }
   ],
   "source": [
    "df.head()"
   ]
  },
  {
   "cell_type": "code",
   "execution_count": 9,
   "metadata": {},
   "outputs": [],
   "source": [
    "tw_ago = [str(x) for x in list(range(1,101))]"
   ]
  },
  {
   "cell_type": "code",
   "execution_count": 10,
   "metadata": {},
   "outputs": [],
   "source": [
    "tw_ago = 5 * tw_ago"
   ]
  },
  {
   "cell_type": "code",
   "execution_count": 11,
   "metadata": {},
   "outputs": [],
   "source": [
    "tw_ago = [int(x) for x in tw_ago]"
   ]
  },
  {
   "cell_type": "code",
   "execution_count": 12,
   "metadata": {},
   "outputs": [
    {
     "data": {
      "text/plain": [
       "500"
      ]
     },
     "execution_count": 12,
     "metadata": {},
     "output_type": "execute_result"
    }
   ],
   "source": [
    "len(tw_ago)"
   ]
  },
  {
   "cell_type": "code",
   "execution_count": 13,
   "metadata": {},
   "outputs": [],
   "source": [
    "tw_ago = pd.Series(tw_ago)"
   ]
  },
  {
   "cell_type": "code",
   "execution_count": 14,
   "metadata": {},
   "outputs": [],
   "source": [
    "df['tweets_ago'] = tw_ago.values"
   ]
  },
  {
   "cell_type": "code",
   "execution_count": 15,
   "metadata": {},
   "outputs": [
    {
     "data": {
      "text/html": [
       "<div>\n",
       "<style scoped>\n",
       "    .dataframe tbody tr th:only-of-type {\n",
       "        vertical-align: middle;\n",
       "    }\n",
       "\n",
       "    .dataframe tbody tr th {\n",
       "        vertical-align: top;\n",
       "    }\n",
       "\n",
       "    .dataframe thead th {\n",
       "        text-align: right;\n",
       "    }\n",
       "</style>\n",
       "<table border=\"1\" class=\"dataframe\">\n",
       "  <thead>\n",
       "    <tr style=\"text-align: right;\">\n",
       "      <th></th>\n",
       "      <th>user</th>\n",
       "      <th>text</th>\n",
       "      <th>created_at</th>\n",
       "      <th>name</th>\n",
       "      <th>tweets_ago</th>\n",
       "    </tr>\n",
       "  </thead>\n",
       "  <tbody>\n",
       "    <tr>\n",
       "      <th>95</th>\n",
       "      <td>{'id': 807095, 'id_str': '807095', 'name': 'Th...</td>\n",
       "      <td>RT @NYTMetro: A new report on New York's subwa...</td>\n",
       "      <td>Thu Jun 28 03:17:06 +0000 2018</td>\n",
       "      <td>The New York Times</td>\n",
       "      <td>96</td>\n",
       "    </tr>\n",
       "    <tr>\n",
       "      <th>96</th>\n",
       "      <td>{'id': 807095, 'id_str': '807095', 'name': 'Th...</td>\n",
       "      <td>A drop of good news about the world’s oceans: ...</td>\n",
       "      <td>Thu Jun 28 03:02:06 +0000 2018</td>\n",
       "      <td>The New York Times</td>\n",
       "      <td>97</td>\n",
       "    </tr>\n",
       "    <tr>\n",
       "      <th>97</th>\n",
       "      <td>{'id': 807095, 'id_str': '807095', 'name': 'Th...</td>\n",
       "      <td>RT @nytgraphics: With Justice Kennedy's retire...</td>\n",
       "      <td>Thu Jun 28 02:47:01 +0000 2018</td>\n",
       "      <td>The New York Times</td>\n",
       "      <td>98</td>\n",
       "    </tr>\n",
       "    <tr>\n",
       "      <th>98</th>\n",
       "      <td>{'id': 807095, 'id_str': '807095', 'name': 'Th...</td>\n",
       "      <td>Cousins' DNA, uploaded to an ancestry site, le...</td>\n",
       "      <td>Thu Jun 28 02:32:07 +0000 2018</td>\n",
       "      <td>The New York Times</td>\n",
       "      <td>99</td>\n",
       "    </tr>\n",
       "    <tr>\n",
       "      <th>99</th>\n",
       "      <td>{'id': 807095, 'id_str': '807095', 'name': 'Th...</td>\n",
       "      <td>News Analysis: Courts are by tradition named f...</td>\n",
       "      <td>Thu Jun 28 02:17:05 +0000 2018</td>\n",
       "      <td>The New York Times</td>\n",
       "      <td>100</td>\n",
       "    </tr>\n",
       "  </tbody>\n",
       "</table>\n",
       "</div>"
      ],
      "text/plain": [
       "                                                 user  \\\n",
       "95  {'id': 807095, 'id_str': '807095', 'name': 'Th...   \n",
       "96  {'id': 807095, 'id_str': '807095', 'name': 'Th...   \n",
       "97  {'id': 807095, 'id_str': '807095', 'name': 'Th...   \n",
       "98  {'id': 807095, 'id_str': '807095', 'name': 'Th...   \n",
       "99  {'id': 807095, 'id_str': '807095', 'name': 'Th...   \n",
       "\n",
       "                                                 text  \\\n",
       "95  RT @NYTMetro: A new report on New York's subwa...   \n",
       "96  A drop of good news about the world’s oceans: ...   \n",
       "97  RT @nytgraphics: With Justice Kennedy's retire...   \n",
       "98  Cousins' DNA, uploaded to an ancestry site, le...   \n",
       "99  News Analysis: Courts are by tradition named f...   \n",
       "\n",
       "                        created_at                name  tweets_ago  \n",
       "95  Thu Jun 28 03:17:06 +0000 2018  The New York Times          96  \n",
       "96  Thu Jun 28 03:02:06 +0000 2018  The New York Times          97  \n",
       "97  Thu Jun 28 02:47:01 +0000 2018  The New York Times          98  \n",
       "98  Thu Jun 28 02:32:07 +0000 2018  The New York Times          99  \n",
       "99  Thu Jun 28 02:17:05 +0000 2018  The New York Times         100  "
      ]
     },
     "execution_count": 15,
     "metadata": {},
     "output_type": "execute_result"
    }
   ],
   "source": [
    "df.tail()"
   ]
  },
  {
   "cell_type": "code",
   "execution_count": 16,
   "metadata": {},
   "outputs": [
    {
     "data": {
      "text/plain": [
       "(500, 5)"
      ]
     },
     "execution_count": 16,
     "metadata": {},
     "output_type": "execute_result"
    }
   ],
   "source": [
    "df.shape"
   ]
  },
  {
   "cell_type": "code",
   "execution_count": 17,
   "metadata": {},
   "outputs": [],
   "source": [
    "analyzer = SentimentIntensityAnalyzer()\n",
    "\n",
    "def get_sentiment(some_text):\n",
    "    return analyzer.polarity_scores(some_text)"
   ]
  },
  {
   "cell_type": "code",
   "execution_count": 18,
   "metadata": {},
   "outputs": [],
   "source": [
    "df['sent'] = df.text.map(get_sentiment)\n",
    "\n",
    "df['pos']= df.sent.map(lambda x :x.get('pos'))\n",
    "df['neg']= df.sent.map(lambda x :x.get('neg'))\n",
    "df['neu']= df.sent.map(lambda x :x.get('neu'))\n",
    "df['compound']= df.sent.map(lambda x :x.get('compound'))"
   ]
  },
  {
   "cell_type": "code",
   "execution_count": 19,
   "metadata": {},
   "outputs": [
    {
     "data": {
      "text/html": [
       "<div>\n",
       "<style scoped>\n",
       "    .dataframe tbody tr th:only-of-type {\n",
       "        vertical-align: middle;\n",
       "    }\n",
       "\n",
       "    .dataframe tbody tr th {\n",
       "        vertical-align: top;\n",
       "    }\n",
       "\n",
       "    .dataframe thead th {\n",
       "        text-align: right;\n",
       "    }\n",
       "</style>\n",
       "<table border=\"1\" class=\"dataframe\">\n",
       "  <thead>\n",
       "    <tr style=\"text-align: right;\">\n",
       "      <th></th>\n",
       "      <th>user</th>\n",
       "      <th>text</th>\n",
       "      <th>created_at</th>\n",
       "      <th>name</th>\n",
       "      <th>tweets_ago</th>\n",
       "      <th>sent</th>\n",
       "      <th>pos</th>\n",
       "      <th>neg</th>\n",
       "      <th>neu</th>\n",
       "      <th>compound</th>\n",
       "    </tr>\n",
       "  </thead>\n",
       "  <tbody>\n",
       "    <tr>\n",
       "      <th>95</th>\n",
       "      <td>{'id': 807095, 'id_str': '807095', 'name': 'Th...</td>\n",
       "      <td>RT @NYTMetro: A new report on New York's subwa...</td>\n",
       "      <td>Thu Jun 28 03:17:06 +0000 2018</td>\n",
       "      <td>The New York Times</td>\n",
       "      <td>96</td>\n",
       "      <td>{'neg': 0.0, 'neu': 1.0, 'pos': 0.0, 'compound...</td>\n",
       "      <td>0.000</td>\n",
       "      <td>0.000</td>\n",
       "      <td>1.000</td>\n",
       "      <td>0.0000</td>\n",
       "    </tr>\n",
       "    <tr>\n",
       "      <th>96</th>\n",
       "      <td>{'id': 807095, 'id_str': '807095', 'name': 'Th...</td>\n",
       "      <td>A drop of good news about the world’s oceans: ...</td>\n",
       "      <td>Thu Jun 28 03:02:06 +0000 2018</td>\n",
       "      <td>The New York Times</td>\n",
       "      <td>97</td>\n",
       "      <td>{'neg': 0.147, 'neu': 0.735, 'pos': 0.118, 'co...</td>\n",
       "      <td>0.118</td>\n",
       "      <td>0.147</td>\n",
       "      <td>0.735</td>\n",
       "      <td>0.0772</td>\n",
       "    </tr>\n",
       "    <tr>\n",
       "      <th>97</th>\n",
       "      <td>{'id': 807095, 'id_str': '807095', 'name': 'Th...</td>\n",
       "      <td>RT @nytgraphics: With Justice Kennedy's retire...</td>\n",
       "      <td>Thu Jun 28 02:47:01 +0000 2018</td>\n",
       "      <td>The New York Times</td>\n",
       "      <td>98</td>\n",
       "      <td>{'neg': 0.113, 'neu': 0.542, 'pos': 0.345, 'co...</td>\n",
       "      <td>0.345</td>\n",
       "      <td>0.113</td>\n",
       "      <td>0.542</td>\n",
       "      <td>0.6908</td>\n",
       "    </tr>\n",
       "    <tr>\n",
       "      <th>98</th>\n",
       "      <td>{'id': 807095, 'id_str': '807095', 'name': 'Th...</td>\n",
       "      <td>Cousins' DNA, uploaded to an ancestry site, le...</td>\n",
       "      <td>Thu Jun 28 02:32:07 +0000 2018</td>\n",
       "      <td>The New York Times</td>\n",
       "      <td>99</td>\n",
       "      <td>{'neg': 0.225, 'neu': 0.775, 'pos': 0.0, 'comp...</td>\n",
       "      <td>0.000</td>\n",
       "      <td>0.225</td>\n",
       "      <td>0.775</td>\n",
       "      <td>-0.4927</td>\n",
       "    </tr>\n",
       "    <tr>\n",
       "      <th>99</th>\n",
       "      <td>{'id': 807095, 'id_str': '807095', 'name': 'Th...</td>\n",
       "      <td>News Analysis: Courts are by tradition named f...</td>\n",
       "      <td>Thu Jun 28 02:17:05 +0000 2018</td>\n",
       "      <td>The New York Times</td>\n",
       "      <td>100</td>\n",
       "      <td>{'neg': 0.0, 'neu': 0.855, 'pos': 0.145, 'comp...</td>\n",
       "      <td>0.145</td>\n",
       "      <td>0.000</td>\n",
       "      <td>0.855</td>\n",
       "      <td>0.5267</td>\n",
       "    </tr>\n",
       "  </tbody>\n",
       "</table>\n",
       "</div>"
      ],
      "text/plain": [
       "                                                 user  \\\n",
       "95  {'id': 807095, 'id_str': '807095', 'name': 'Th...   \n",
       "96  {'id': 807095, 'id_str': '807095', 'name': 'Th...   \n",
       "97  {'id': 807095, 'id_str': '807095', 'name': 'Th...   \n",
       "98  {'id': 807095, 'id_str': '807095', 'name': 'Th...   \n",
       "99  {'id': 807095, 'id_str': '807095', 'name': 'Th...   \n",
       "\n",
       "                                                 text  \\\n",
       "95  RT @NYTMetro: A new report on New York's subwa...   \n",
       "96  A drop of good news about the world’s oceans: ...   \n",
       "97  RT @nytgraphics: With Justice Kennedy's retire...   \n",
       "98  Cousins' DNA, uploaded to an ancestry site, le...   \n",
       "99  News Analysis: Courts are by tradition named f...   \n",
       "\n",
       "                        created_at                name  tweets_ago  \\\n",
       "95  Thu Jun 28 03:17:06 +0000 2018  The New York Times          96   \n",
       "96  Thu Jun 28 03:02:06 +0000 2018  The New York Times          97   \n",
       "97  Thu Jun 28 02:47:01 +0000 2018  The New York Times          98   \n",
       "98  Thu Jun 28 02:32:07 +0000 2018  The New York Times          99   \n",
       "99  Thu Jun 28 02:17:05 +0000 2018  The New York Times         100   \n",
       "\n",
       "                                                 sent    pos    neg    neu  \\\n",
       "95  {'neg': 0.0, 'neu': 1.0, 'pos': 0.0, 'compound...  0.000  0.000  1.000   \n",
       "96  {'neg': 0.147, 'neu': 0.735, 'pos': 0.118, 'co...  0.118  0.147  0.735   \n",
       "97  {'neg': 0.113, 'neu': 0.542, 'pos': 0.345, 'co...  0.345  0.113  0.542   \n",
       "98  {'neg': 0.225, 'neu': 0.775, 'pos': 0.0, 'comp...  0.000  0.225  0.775   \n",
       "99  {'neg': 0.0, 'neu': 0.855, 'pos': 0.145, 'comp...  0.145  0.000  0.855   \n",
       "\n",
       "    compound  \n",
       "95    0.0000  \n",
       "96    0.0772  \n",
       "97    0.6908  \n",
       "98   -0.4927  \n",
       "99    0.5267  "
      ]
     },
     "execution_count": 19,
     "metadata": {},
     "output_type": "execute_result"
    }
   ],
   "source": [
    "df.tail()"
   ]
  },
  {
   "cell_type": "code",
   "execution_count": 20,
   "metadata": {},
   "outputs": [
    {
     "data": {
      "text/html": [
       "<div>\n",
       "<style scoped>\n",
       "    .dataframe tbody tr th:only-of-type {\n",
       "        vertical-align: middle;\n",
       "    }\n",
       "\n",
       "    .dataframe tbody tr th {\n",
       "        vertical-align: top;\n",
       "    }\n",
       "\n",
       "    .dataframe thead th {\n",
       "        text-align: right;\n",
       "    }\n",
       "</style>\n",
       "<table border=\"1\" class=\"dataframe\">\n",
       "  <thead>\n",
       "    <tr style=\"text-align: right;\">\n",
       "      <th></th>\n",
       "      <th>pos</th>\n",
       "      <th>neg</th>\n",
       "      <th>neu</th>\n",
       "    </tr>\n",
       "  </thead>\n",
       "  <tbody>\n",
       "    <tr>\n",
       "      <th>count</th>\n",
       "      <td>500.000000</td>\n",
       "      <td>500.000000</td>\n",
       "      <td>500.000000</td>\n",
       "    </tr>\n",
       "    <tr>\n",
       "      <th>mean</th>\n",
       "      <td>0.077114</td>\n",
       "      <td>0.086614</td>\n",
       "      <td>0.836274</td>\n",
       "    </tr>\n",
       "    <tr>\n",
       "      <th>std</th>\n",
       "      <td>0.113091</td>\n",
       "      <td>0.127284</td>\n",
       "      <td>0.146686</td>\n",
       "    </tr>\n",
       "    <tr>\n",
       "      <th>min</th>\n",
       "      <td>0.000000</td>\n",
       "      <td>0.000000</td>\n",
       "      <td>0.219000</td>\n",
       "    </tr>\n",
       "    <tr>\n",
       "      <th>25%</th>\n",
       "      <td>0.000000</td>\n",
       "      <td>0.000000</td>\n",
       "      <td>0.721000</td>\n",
       "    </tr>\n",
       "    <tr>\n",
       "      <th>50%</th>\n",
       "      <td>0.000000</td>\n",
       "      <td>0.000000</td>\n",
       "      <td>0.841000</td>\n",
       "    </tr>\n",
       "    <tr>\n",
       "      <th>75%</th>\n",
       "      <td>0.148500</td>\n",
       "      <td>0.158000</td>\n",
       "      <td>1.000000</td>\n",
       "    </tr>\n",
       "    <tr>\n",
       "      <th>max</th>\n",
       "      <td>0.531000</td>\n",
       "      <td>0.781000</td>\n",
       "      <td>1.000000</td>\n",
       "    </tr>\n",
       "  </tbody>\n",
       "</table>\n",
       "</div>"
      ],
      "text/plain": [
       "              pos         neg         neu\n",
       "count  500.000000  500.000000  500.000000\n",
       "mean     0.077114    0.086614    0.836274\n",
       "std      0.113091    0.127284    0.146686\n",
       "min      0.000000    0.000000    0.219000\n",
       "25%      0.000000    0.000000    0.721000\n",
       "50%      0.000000    0.000000    0.841000\n",
       "75%      0.148500    0.158000    1.000000\n",
       "max      0.531000    0.781000    1.000000"
      ]
     },
     "execution_count": 20,
     "metadata": {},
     "output_type": "execute_result"
    }
   ],
   "source": [
    "df[['pos', 'neg', 'neu']].describe()"
   ]
  },
  {
   "cell_type": "code",
   "execution_count": 21,
   "metadata": {},
   "outputs": [],
   "source": [
    "dfbar = df[['name', 'compound']]"
   ]
  },
  {
   "cell_type": "code",
   "execution_count": 22,
   "metadata": {},
   "outputs": [],
   "source": [
    "dfbar = dfbar.groupby('name').mean()"
   ]
  },
  {
   "cell_type": "code",
   "execution_count": 23,
   "metadata": {},
   "outputs": [
    {
     "data": {
      "image/png": "[encoded data removed]",
      "text/plain": [
       "<matplotlib.figure.Figure at 0x10ca16e10>"
      ]
     },
     "metadata": {},
     "output_type": "display_data"
    }
   ],
   "source": [
    "sent_bar = dfbar.plot.bar(color='c', title='Mean Compound Sentiment Score');"
   ]
  },
  {
   "cell_type": "code",
   "execution_count": 24,
   "metadata": {},
   "outputs": [],
   "source": [
    "import seaborn as sns"
   ]
  },
  {
   "cell_type": "code",
   "execution_count": 25,
   "metadata": {},
   "outputs": [
    {
     "data": {
      "image/png": "[encoded data removed]",
      "text/plain": [
       "<matplotlib.figure.Figure at 0x1a17409a58>"
      ]
     },
     "metadata": {},
     "output_type": "display_data"
    }
   ],
   "source": [
    "sent_scatter = sns.lmplot( x=\"tweets_ago\", y=\"compound\", data=df, fit_reg=False, hue='name', size=10, legend_out=True);"
   ]
  },
  {
   "cell_type": "code",
   "execution_count": 26,
   "metadata": {},
   "outputs": [],
   "source": [
    "df.to_csv('tweet_sentiment_20180628.csv', sep='\\t')"
   ]
  },
  {
   "cell_type": "code",
   "execution_count": 27,
   "metadata": {},
   "outputs": [],
   "source": [
    "sent_scatter.savefig('sentiment_scatterplot_20180628.png')"
   ]
  },
  {
   "cell_type": "code",
   "execution_count": 28,
   "metadata": {},
   "outputs": [],
   "source": [
    "fig = sent_bar.get_figure()\n",
    "fig.savefig(\"sentiment_barchart_20180628.png\")"
   ]
  },
  {
   "cell_type": "code",
   "execution_count": null,
   "metadata": {},
   "outputs": [],
   "source": []
  }
 ],
 "metadata": {
  "kernelspec": {
   "display_name": "Python 3",
   "language": "python",
   "name": "python3"
  },
  "language_info": {
   "codemirror_mode": {
    "name": "ipython",
    "version": 3
   },
   "file_extension": ".py",
   "mimetype": "text/x-python",
   "name": "python",
   "nbconvert_exporter": "python",
   "pygments_lexer": "ipython3",
   "version": "3.6.4"
  }
 },
 "nbformat": 4,
 "nbformat_minor": 2
}
