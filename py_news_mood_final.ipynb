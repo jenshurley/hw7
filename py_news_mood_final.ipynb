{
 "cells": [
  {
   "cell_type": "markdown",
   "metadata": {},
   "source": [
    "## Observations\n",
    "- The bar graph showing mean sentiment score varies from day to to day. On June 25, the New York Times and CNN scores were closest to neutral, and all news sources showed scores on the negative side of the scale. It was a bad day, perhaps. On June 26, Fox News is the only one to show a positive score, while BBC and NYT are closest to neutral. \n",
    "- The scatterplot of tweet sentiment over time displays a pattern of sentiment cluster around the '0.0' score indicating neutrality. Other than that cluster of neutrality, which one might expect given the values of journalism to present balanced information, the pattern is random. All sources have dots everywhere, and we don't see a difference over time. There are more dots in the negative part of the plot, which, at a guess, may be due to the charged issue of separating families at the U.S. border. The scatterplot looked much the same on June 25 as it did on June 26. "
   ]
  },
  {
   "cell_type": "code",
   "execution_count": 1,
   "metadata": {},
   "outputs": [],
   "source": [
    "import pandas as pd\n",
    "import tweepy\n",
    "import matplotlib.pyplot as plt\n",
    "from vaderSentiment.vaderSentiment import SentimentIntensityAnalyzer\n",
    "from config import (consumer_key, consumer_secret, \n",
    "                    access_token, access_token_secret)"
   ]
  },
  {
   "cell_type": "code",
   "execution_count": 2,
   "metadata": {},
   "outputs": [],
   "source": [
    "auth = tweepy.OAuthHandler(consumer_key, consumer_secret)\n",
    "auth.set_access_token(access_token, access_token_secret)\n",
    "api = tweepy.API(auth)"
   ]
  },
  {
   "cell_type": "code",
   "execution_count": null,
   "metadata": {},
   "outputs": [],
   "source": [
    "users = ['BBCWorld', 'CBSNews', 'CNN', 'FoxNews', 'nytimes']\n",
    "\n",
    "def get_tweets_by_handle(the_handle, count):\n",
    "    res_list = []\n",
    "    for status in tweepy.Cursor(api.user_timeline, id=the_handle).items(count):\n",
    "        res_list.append(status)\n",
    "    return pd.DataFrame([x._json for x in res_list])"
   ]
  },
  {
   "cell_type": "code",
   "execution_count": null,
   "metadata": {},
   "outputs": [],
   "source": [
    "frames = [get_tweets_by_handle(x, 100) for x in users]"
   ]
  },
  {
   "cell_type": "code",
   "execution_count": null,
   "metadata": {},
   "outputs": [],
   "source": [
    "pd.concat(frames, axis=0).head(1)"
   ]
  },
  {
   "cell_type": "code",
   "execution_count": 4,
   "metadata": {},
   "outputs": [],
   "source": [
    "bbcdf = pd.DataFrame([x._json for x in bbc_list])[['user', 'text', 'created_at']]"
   ]
  },
  {
   "cell_type": "code",
   "execution_count": null,
   "metadata": {},
   "outputs": [],
   "source": []
  },
  {
   "cell_type": "code",
   "execution_count": 5,
   "metadata": {},
   "outputs": [],
   "source": [
    "bbcdf['name'] = bbcdf.user.map(lambda x: x.get('name'))"
   ]
  },
  {
   "cell_type": "code",
   "execution_count": 6,
   "metadata": {},
   "outputs": [],
   "source": [
    "tweets_ago = pd.Series(list(range(1,101)))"
   ]
  },
  {
   "cell_type": "code",
   "execution_count": 7,
   "metadata": {},
   "outputs": [],
   "source": [
    "bbcdf['tweets_ago'] = tweets_ago.values"
   ]
  },
  {
   "cell_type": "code",
   "execution_count": 8,
   "metadata": {},
   "outputs": [
    {
     "data": {
      "text/html": [
       "<div>\n",
       "<style scoped>\n",
       "    .dataframe tbody tr th:only-of-type {\n",
       "        vertical-align: middle;\n",
       "    }\n",
       "\n",
       "    .dataframe tbody tr th {\n",
       "        vertical-align: top;\n",
       "    }\n",
       "\n",
       "    .dataframe thead th {\n",
       "        text-align: right;\n",
       "    }\n",
       "</style>\n",
       "<table border=\"1\" class=\"dataframe\">\n",
       "  <thead>\n",
       "    <tr style=\"text-align: right;\">\n",
       "      <th></th>\n",
       "      <th>user</th>\n",
       "      <th>text</th>\n",
       "      <th>created_at</th>\n",
       "      <th>name</th>\n",
       "      <th>tweets_ago</th>\n",
       "    </tr>\n",
       "  </thead>\n",
       "  <tbody>\n",
       "    <tr>\n",
       "      <th>95</th>\n",
       "      <td>{'id': 742143, 'id_str': '742143', 'name': 'BB...</td>\n",
       "      <td>RT @BBCSport: GOAL! Uruguay 1-0 Russia. \\n\\nLu...</td>\n",
       "      <td>Mon Jun 25 14:12:13 +0000 2018</td>\n",
       "      <td>BBC News (World)</td>\n",
       "      <td>96</td>\n",
       "    </tr>\n",
       "    <tr>\n",
       "      <th>96</th>\n",
       "      <td>{'id': 742143, 'id_str': '742143', 'name': 'BB...</td>\n",
       "      <td>RT @BBCSport: Pride is at stake...\\n\\nWho's en...</td>\n",
       "      <td>Mon Jun 25 14:07:45 +0000 2018</td>\n",
       "      <td>BBC News (World)</td>\n",
       "      <td>97</td>\n",
       "    </tr>\n",
       "    <tr>\n",
       "      <th>97</th>\n",
       "      <td>{'id': 742143, 'id_str': '742143', 'name': 'BB...</td>\n",
       "      <td>RT @BBCSport: Underway between #URU and #RUS. ...</td>\n",
       "      <td>Mon Jun 25 14:07:38 +0000 2018</td>\n",
       "      <td>BBC News (World)</td>\n",
       "      <td>98</td>\n",
       "    </tr>\n",
       "    <tr>\n",
       "      <th>98</th>\n",
       "      <td>{'id': 742143, 'id_str': '742143', 'name': 'BB...</td>\n",
       "      <td>Rotterdam oil spill: Hundreds of birds hit aft...</td>\n",
       "      <td>Mon Jun 25 13:19:00 +0000 2018</td>\n",
       "      <td>BBC News (World)</td>\n",
       "      <td>99</td>\n",
       "    </tr>\n",
       "    <tr>\n",
       "      <th>99</th>\n",
       "      <td>{'id': 742143, 'id_str': '742143', 'name': 'BB...</td>\n",
       "      <td>RT @BBCSteveR: We’re in Samara for Russia v Ur...</td>\n",
       "      <td>Mon Jun 25 12:23:15 +0000 2018</td>\n",
       "      <td>BBC News (World)</td>\n",
       "      <td>100</td>\n",
       "    </tr>\n",
       "  </tbody>\n",
       "</table>\n",
       "</div>"
      ],
      "text/plain": [
       "                                                 user  \\\n",
       "95  {'id': 742143, 'id_str': '742143', 'name': 'BB...   \n",
       "96  {'id': 742143, 'id_str': '742143', 'name': 'BB...   \n",
       "97  {'id': 742143, 'id_str': '742143', 'name': 'BB...   \n",
       "98  {'id': 742143, 'id_str': '742143', 'name': 'BB...   \n",
       "99  {'id': 742143, 'id_str': '742143', 'name': 'BB...   \n",
       "\n",
       "                                                 text  \\\n",
       "95  RT @BBCSport: GOAL! Uruguay 1-0 Russia. \\n\\nLu...   \n",
       "96  RT @BBCSport: Pride is at stake...\\n\\nWho's en...   \n",
       "97  RT @BBCSport: Underway between #URU and #RUS. ...   \n",
       "98  Rotterdam oil spill: Hundreds of birds hit aft...   \n",
       "99  RT @BBCSteveR: We’re in Samara for Russia v Ur...   \n",
       "\n",
       "                        created_at              name  tweets_ago  \n",
       "95  Mon Jun 25 14:12:13 +0000 2018  BBC News (World)          96  \n",
       "96  Mon Jun 25 14:07:45 +0000 2018  BBC News (World)          97  \n",
       "97  Mon Jun 25 14:07:38 +0000 2018  BBC News (World)          98  \n",
       "98  Mon Jun 25 13:19:00 +0000 2018  BBC News (World)          99  \n",
       "99  Mon Jun 25 12:23:15 +0000 2018  BBC News (World)         100  "
      ]
     },
     "execution_count": 8,
     "metadata": {},
     "output_type": "execute_result"
    }
   ],
   "source": [
    "bbcdf.tail()"
   ]
  },
  {
   "cell_type": "code",
   "execution_count": 9,
   "metadata": {},
   "outputs": [],
   "source": [
    "cbsdf = pd.DataFrame([x._json for x in cbs_list])[['user', 'text', 'created_at']]\n",
    "cbsdf['name'] = cbsdf.user.map(lambda x: x.get('name'))\n",
    "cbsdf['tweets_ago'] = tweets_ago.values"
   ]
  },
  {
   "cell_type": "code",
   "execution_count": 10,
   "metadata": {},
   "outputs": [
    {
     "data": {
      "text/html": [
       "<div>\n",
       "<style scoped>\n",
       "    .dataframe tbody tr th:only-of-type {\n",
       "        vertical-align: middle;\n",
       "    }\n",
       "\n",
       "    .dataframe tbody tr th {\n",
       "        vertical-align: top;\n",
       "    }\n",
       "\n",
       "    .dataframe thead th {\n",
       "        text-align: right;\n",
       "    }\n",
       "</style>\n",
       "<table border=\"1\" class=\"dataframe\">\n",
       "  <thead>\n",
       "    <tr style=\"text-align: right;\">\n",
       "      <th></th>\n",
       "      <th>user</th>\n",
       "      <th>text</th>\n",
       "      <th>created_at</th>\n",
       "      <th>name</th>\n",
       "      <th>tweets_ago</th>\n",
       "    </tr>\n",
       "  </thead>\n",
       "  <tbody>\n",
       "    <tr>\n",
       "      <th>0</th>\n",
       "      <td>{'id': 15012486, 'id_str': '15012486', 'name':...</td>\n",
       "      <td>Bank of America allegedly is neglecting basic ...</td>\n",
       "      <td>Tue Jun 26 22:17:01 +0000 2018</td>\n",
       "      <td>CBS News</td>\n",
       "      <td>1</td>\n",
       "    </tr>\n",
       "    <tr>\n",
       "      <th>1</th>\n",
       "      <td>{'id': 15012486, 'id_str': '15012486', 'name':...</td>\n",
       "      <td>The NYPD made an eighth arrest in the fatal st...</td>\n",
       "      <td>Tue Jun 26 22:00:58 +0000 2018</td>\n",
       "      <td>CBS News</td>\n",
       "      <td>2</td>\n",
       "    </tr>\n",
       "    <tr>\n",
       "      <th>2</th>\n",
       "      <td>{'id': 15012486, 'id_str': '15012486', 'name':...</td>\n",
       "      <td>HHS official says 2,047 children who were sepa...</td>\n",
       "      <td>Tue Jun 26 21:45:30 +0000 2018</td>\n",
       "      <td>CBS News</td>\n",
       "      <td>3</td>\n",
       "    </tr>\n",
       "    <tr>\n",
       "      <th>3</th>\n",
       "      <td>{'id': 15012486, 'id_str': '15012486', 'name':...</td>\n",
       "      <td>In its decision to uphold the travel ban, the ...</td>\n",
       "      <td>Tue Jun 26 21:30:56 +0000 2018</td>\n",
       "      <td>CBS News</td>\n",
       "      <td>4</td>\n",
       "    </tr>\n",
       "    <tr>\n",
       "      <th>4</th>\n",
       "      <td>{'id': 15012486, 'id_str': '15012486', 'name':...</td>\n",
       "      <td>Authorities are responding to reports of a \"ve...</td>\n",
       "      <td>Tue Jun 26 21:15:44 +0000 2018</td>\n",
       "      <td>CBS News</td>\n",
       "      <td>5</td>\n",
       "    </tr>\n",
       "  </tbody>\n",
       "</table>\n",
       "</div>"
      ],
      "text/plain": [
       "                                                user  \\\n",
       "0  {'id': 15012486, 'id_str': '15012486', 'name':...   \n",
       "1  {'id': 15012486, 'id_str': '15012486', 'name':...   \n",
       "2  {'id': 15012486, 'id_str': '15012486', 'name':...   \n",
       "3  {'id': 15012486, 'id_str': '15012486', 'name':...   \n",
       "4  {'id': 15012486, 'id_str': '15012486', 'name':...   \n",
       "\n",
       "                                                text  \\\n",
       "0  Bank of America allegedly is neglecting basic ...   \n",
       "1  The NYPD made an eighth arrest in the fatal st...   \n",
       "2  HHS official says 2,047 children who were sepa...   \n",
       "3  In its decision to uphold the travel ban, the ...   \n",
       "4  Authorities are responding to reports of a \"ve...   \n",
       "\n",
       "                       created_at      name  tweets_ago  \n",
       "0  Tue Jun 26 22:17:01 +0000 2018  CBS News           1  \n",
       "1  Tue Jun 26 22:00:58 +0000 2018  CBS News           2  \n",
       "2  Tue Jun 26 21:45:30 +0000 2018  CBS News           3  \n",
       "3  Tue Jun 26 21:30:56 +0000 2018  CBS News           4  \n",
       "4  Tue Jun 26 21:15:44 +0000 2018  CBS News           5  "
      ]
     },
     "execution_count": 10,
     "metadata": {},
     "output_type": "execute_result"
    }
   ],
   "source": [
    "cbsdf.head()"
   ]
  },
  {
   "cell_type": "code",
   "execution_count": 11,
   "metadata": {},
   "outputs": [],
   "source": [
    "cnndf = pd.DataFrame([x._json for x in cnn_list])[['user', 'text', 'created_at']]\n",
    "cnndf['name'] = cnndf.user.map(lambda x: x.get('name'))\n",
    "cnndf['tweets_ago'] = tweets_ago.values\n",
    "\n",
    "foxdf = pd.DataFrame([x._json for x in fox_list])[['user', 'text', 'created_at']]\n",
    "foxdf['name'] = foxdf.user.map(lambda x: x.get('name'))\n",
    "foxdf['tweets_ago'] = tweets_ago.values\n",
    "\n",
    "nytdf = pd.DataFrame([x._json for x in nyt_list])[['user', 'text', 'created_at']]\n",
    "nytdf['name'] = nytdf.user.map(lambda x: x.get('name'))\n",
    "nytdf['tweets_ago'] = tweets_ago.values"
   ]
  },
  {
   "cell_type": "code",
   "execution_count": 12,
   "metadata": {},
   "outputs": [],
   "source": [
    "combined_df = pd.concat([bbcdf, cbsdf, cnndf, foxdf, nytdf])"
   ]
  },
  {
   "cell_type": "code",
   "execution_count": 13,
   "metadata": {},
   "outputs": [
    {
     "data": {
      "text/html": [
       "<div>\n",
       "<style scoped>\n",
       "    .dataframe tbody tr th:only-of-type {\n",
       "        vertical-align: middle;\n",
       "    }\n",
       "\n",
       "    .dataframe tbody tr th {\n",
       "        vertical-align: top;\n",
       "    }\n",
       "\n",
       "    .dataframe thead th {\n",
       "        text-align: right;\n",
       "    }\n",
       "</style>\n",
       "<table border=\"1\" class=\"dataframe\">\n",
       "  <thead>\n",
       "    <tr style=\"text-align: right;\">\n",
       "      <th></th>\n",
       "      <th>user</th>\n",
       "      <th>text</th>\n",
       "      <th>created_at</th>\n",
       "      <th>name</th>\n",
       "      <th>tweets_ago</th>\n",
       "    </tr>\n",
       "  </thead>\n",
       "  <tbody>\n",
       "    <tr>\n",
       "      <th>95</th>\n",
       "      <td>{'id': 807095, 'id_str': '807095', 'name': 'Th...</td>\n",
       "      <td>A plan to build an AirTrain between Manhattan ...</td>\n",
       "      <td>Tue Jun 26 04:58:28 +0000 2018</td>\n",
       "      <td>The New York Times</td>\n",
       "      <td>96</td>\n",
       "    </tr>\n",
       "    <tr>\n",
       "      <th>96</th>\n",
       "      <td>{'id': 807095, 'id_str': '807095', 'name': 'Th...</td>\n",
       "      <td>5 years ago, the Supreme Court struck down a k...</td>\n",
       "      <td>Tue Jun 26 04:42:03 +0000 2018</td>\n",
       "      <td>The New York Times</td>\n",
       "      <td>97</td>\n",
       "    </tr>\n",
       "    <tr>\n",
       "      <th>97</th>\n",
       "      <td>{'id': 807095, 'id_str': '807095', 'name': 'Th...</td>\n",
       "      <td>RT @nytopinion: In Episode One of @realtrumpbi...</td>\n",
       "      <td>Tue Jun 26 04:22:04 +0000 2018</td>\n",
       "      <td>The New York Times</td>\n",
       "      <td>98</td>\n",
       "    </tr>\n",
       "    <tr>\n",
       "      <th>98</th>\n",
       "      <td>{'id': 807095, 'id_str': '807095', 'name': 'Th...</td>\n",
       "      <td>Five Takeaways From Turkey’s Election https://...</td>\n",
       "      <td>Tue Jun 26 04:11:25 +0000 2018</td>\n",
       "      <td>The New York Times</td>\n",
       "      <td>99</td>\n",
       "    </tr>\n",
       "    <tr>\n",
       "      <th>99</th>\n",
       "      <td>{'id': 807095, 'id_str': '807095', 'name': 'Th...</td>\n",
       "      <td>Amid increasing concerns about privacy violati...</td>\n",
       "      <td>Tue Jun 26 04:02:02 +0000 2018</td>\n",
       "      <td>The New York Times</td>\n",
       "      <td>100</td>\n",
       "    </tr>\n",
       "  </tbody>\n",
       "</table>\n",
       "</div>"
      ],
      "text/plain": [
       "                                                 user  \\\n",
       "95  {'id': 807095, 'id_str': '807095', 'name': 'Th...   \n",
       "96  {'id': 807095, 'id_str': '807095', 'name': 'Th...   \n",
       "97  {'id': 807095, 'id_str': '807095', 'name': 'Th...   \n",
       "98  {'id': 807095, 'id_str': '807095', 'name': 'Th...   \n",
       "99  {'id': 807095, 'id_str': '807095', 'name': 'Th...   \n",
       "\n",
       "                                                 text  \\\n",
       "95  A plan to build an AirTrain between Manhattan ...   \n",
       "96  5 years ago, the Supreme Court struck down a k...   \n",
       "97  RT @nytopinion: In Episode One of @realtrumpbi...   \n",
       "98  Five Takeaways From Turkey’s Election https://...   \n",
       "99  Amid increasing concerns about privacy violati...   \n",
       "\n",
       "                        created_at                name  tweets_ago  \n",
       "95  Tue Jun 26 04:58:28 +0000 2018  The New York Times          96  \n",
       "96  Tue Jun 26 04:42:03 +0000 2018  The New York Times          97  \n",
       "97  Tue Jun 26 04:22:04 +0000 2018  The New York Times          98  \n",
       "98  Tue Jun 26 04:11:25 +0000 2018  The New York Times          99  \n",
       "99  Tue Jun 26 04:02:02 +0000 2018  The New York Times         100  "
      ]
     },
     "execution_count": 13,
     "metadata": {},
     "output_type": "execute_result"
    }
   ],
   "source": [
    "combined_df.tail()"
   ]
  },
  {
   "cell_type": "code",
   "execution_count": 14,
   "metadata": {},
   "outputs": [],
   "source": [
    "from sklearn.utils import shuffle"
   ]
  },
  {
   "cell_type": "code",
   "execution_count": 15,
   "metadata": {},
   "outputs": [],
   "source": [
    "shuffled = shuffle(combined_df)"
   ]
  },
  {
   "cell_type": "code",
   "execution_count": 16,
   "metadata": {},
   "outputs": [],
   "source": [
    "analyzer = SentimentIntensityAnalyzer()\n",
    "\n",
    "def get_sentiment(some_text):\n",
    "    return analyzer.polarity_scores(some_text)"
   ]
  },
  {
   "cell_type": "code",
   "execution_count": 17,
   "metadata": {},
   "outputs": [
    {
     "name": "stderr",
     "output_type": "stream",
     "text": [
      "/Users/jennifershurley/anaconda3/lib/python3.6/site-packages/ipykernel_launcher.py:1: SettingWithCopyWarning: \n",
      "A value is trying to be set on a copy of a slice from a DataFrame.\n",
      "Try using .loc[row_indexer,col_indexer] = value instead\n",
      "\n",
      "See the caveats in the documentation: http://pandas.pydata.org/pandas-docs/stable/indexing.html#indexing-view-versus-copy\n",
      "  \"\"\"Entry point for launching an IPython kernel.\n",
      "/Users/jennifershurley/anaconda3/lib/python3.6/site-packages/ipykernel_launcher.py:3: SettingWithCopyWarning: \n",
      "A value is trying to be set on a copy of a slice from a DataFrame.\n",
      "Try using .loc[row_indexer,col_indexer] = value instead\n",
      "\n",
      "See the caveats in the documentation: http://pandas.pydata.org/pandas-docs/stable/indexing.html#indexing-view-versus-copy\n",
      "  This is separate from the ipykernel package so we can avoid doing imports until\n",
      "/Users/jennifershurley/anaconda3/lib/python3.6/site-packages/ipykernel_launcher.py:4: SettingWithCopyWarning: \n",
      "A value is trying to be set on a copy of a slice from a DataFrame.\n",
      "Try using .loc[row_indexer,col_indexer] = value instead\n",
      "\n",
      "See the caveats in the documentation: http://pandas.pydata.org/pandas-docs/stable/indexing.html#indexing-view-versus-copy\n",
      "  after removing the cwd from sys.path.\n",
      "/Users/jennifershurley/anaconda3/lib/python3.6/site-packages/ipykernel_launcher.py:5: SettingWithCopyWarning: \n",
      "A value is trying to be set on a copy of a slice from a DataFrame.\n",
      "Try using .loc[row_indexer,col_indexer] = value instead\n",
      "\n",
      "See the caveats in the documentation: http://pandas.pydata.org/pandas-docs/stable/indexing.html#indexing-view-versus-copy\n",
      "  \"\"\"\n",
      "/Users/jennifershurley/anaconda3/lib/python3.6/site-packages/ipykernel_launcher.py:6: SettingWithCopyWarning: \n",
      "A value is trying to be set on a copy of a slice from a DataFrame.\n",
      "Try using .loc[row_indexer,col_indexer] = value instead\n",
      "\n",
      "See the caveats in the documentation: http://pandas.pydata.org/pandas-docs/stable/indexing.html#indexing-view-versus-copy\n",
      "  \n"
     ]
    }
   ],
   "source": [
    "shuffled['sent'] = shuffled.text.map(get_sentiment)\n",
    "\n",
    "shuffled['pos']= shuffled.sent.map(lambda x :x.get('pos'))\n",
    "shuffled['neg']= shuffled.sent.map(lambda x :x.get('neg'))\n",
    "shuffled['neu']= shuffled.sent.map(lambda x :x.get('neu'))\n",
    "shuffled['compound']= shuffled.sent.map(lambda x :x.get('compound'))"
   ]
  },
  {
   "cell_type": "code",
   "execution_count": 18,
   "metadata": {},
   "outputs": [
    {
     "data": {
      "text/html": [
       "<div>\n",
       "<style scoped>\n",
       "    .dataframe tbody tr th:only-of-type {\n",
       "        vertical-align: middle;\n",
       "    }\n",
       "\n",
       "    .dataframe tbody tr th {\n",
       "        vertical-align: top;\n",
       "    }\n",
       "\n",
       "    .dataframe thead th {\n",
       "        text-align: right;\n",
       "    }\n",
       "</style>\n",
       "<table border=\"1\" class=\"dataframe\">\n",
       "  <thead>\n",
       "    <tr style=\"text-align: right;\">\n",
       "      <th></th>\n",
       "      <th>user</th>\n",
       "      <th>text</th>\n",
       "      <th>created_at</th>\n",
       "      <th>name</th>\n",
       "      <th>tweets_ago</th>\n",
       "      <th>sent</th>\n",
       "      <th>pos</th>\n",
       "      <th>neg</th>\n",
       "      <th>neu</th>\n",
       "      <th>compound</th>\n",
       "    </tr>\n",
       "  </thead>\n",
       "  <tbody>\n",
       "    <tr>\n",
       "      <th>66</th>\n",
       "      <td>{'id': 759251, 'id_str': '759251', 'name': 'CN...</td>\n",
       "      <td>Could pills soon replace insulin shots for dia...</td>\n",
       "      <td>Tue Jun 26 11:16:12 +0000 2018</td>\n",
       "      <td>CNN</td>\n",
       "      <td>67</td>\n",
       "      <td>{'neg': 0.0, 'neu': 1.0, 'pos': 0.0, 'compound...</td>\n",
       "      <td>0.000</td>\n",
       "      <td>0.0</td>\n",
       "      <td>1.000</td>\n",
       "      <td>0.0000</td>\n",
       "    </tr>\n",
       "    <tr>\n",
       "      <th>32</th>\n",
       "      <td>{'id': 759251, 'id_str': '759251', 'name': 'CN...</td>\n",
       "      <td>The 55 most over-the-top lines from Donald Tru...</td>\n",
       "      <td>Tue Jun 26 16:51:27 +0000 2018</td>\n",
       "      <td>CNN</td>\n",
       "      <td>33</td>\n",
       "      <td>{'neg': 0.0, 'neu': 1.0, 'pos': 0.0, 'compound...</td>\n",
       "      <td>0.000</td>\n",
       "      <td>0.0</td>\n",
       "      <td>1.000</td>\n",
       "      <td>0.0000</td>\n",
       "    </tr>\n",
       "    <tr>\n",
       "      <th>36</th>\n",
       "      <td>{'id': 1367531, 'id_str': '1367531', 'name': '...</td>\n",
       "      <td>.@POTUS admin bids to save coal plant by forci...</td>\n",
       "      <td>Tue Jun 26 18:16:28 +0000 2018</td>\n",
       "      <td>Fox News</td>\n",
       "      <td>37</td>\n",
       "      <td>{'neg': 0.0, 'neu': 0.824, 'pos': 0.176, 'comp...</td>\n",
       "      <td>0.176</td>\n",
       "      <td>0.0</td>\n",
       "      <td>0.824</td>\n",
       "      <td>0.4939</td>\n",
       "    </tr>\n",
       "    <tr>\n",
       "      <th>15</th>\n",
       "      <td>{'id': 1367531, 'id_str': '1367531', 'name': '...</td>\n",
       "      <td>THURSDAY: @BretBaier and @marthamaccallum mode...</td>\n",
       "      <td>Tue Jun 26 20:35:05 +0000 2018</td>\n",
       "      <td>Fox News</td>\n",
       "      <td>16</td>\n",
       "      <td>{'neg': 0.0, 'neu': 1.0, 'pos': 0.0, 'compound...</td>\n",
       "      <td>0.000</td>\n",
       "      <td>0.0</td>\n",
       "      <td>1.000</td>\n",
       "      <td>0.0000</td>\n",
       "    </tr>\n",
       "    <tr>\n",
       "      <th>70</th>\n",
       "      <td>{'id': 807095, 'id_str': '807095', 'name': 'Th...</td>\n",
       "      <td>Jimmy Fallon responds to President Trump: \"You...</td>\n",
       "      <td>Tue Jun 26 11:30:12 +0000 2018</td>\n",
       "      <td>The New York Times</td>\n",
       "      <td>71</td>\n",
       "      <td>{'neg': 0.0, 'neu': 1.0, 'pos': 0.0, 'compound...</td>\n",
       "      <td>0.000</td>\n",
       "      <td>0.0</td>\n",
       "      <td>1.000</td>\n",
       "      <td>0.0000</td>\n",
       "    </tr>\n",
       "  </tbody>\n",
       "</table>\n",
       "</div>"
      ],
      "text/plain": [
       "                                                 user  \\\n",
       "66  {'id': 759251, 'id_str': '759251', 'name': 'CN...   \n",
       "32  {'id': 759251, 'id_str': '759251', 'name': 'CN...   \n",
       "36  {'id': 1367531, 'id_str': '1367531', 'name': '...   \n",
       "15  {'id': 1367531, 'id_str': '1367531', 'name': '...   \n",
       "70  {'id': 807095, 'id_str': '807095', 'name': 'Th...   \n",
       "\n",
       "                                                 text  \\\n",
       "66  Could pills soon replace insulin shots for dia...   \n",
       "32  The 55 most over-the-top lines from Donald Tru...   \n",
       "36  .@POTUS admin bids to save coal plant by forci...   \n",
       "15  THURSDAY: @BretBaier and @marthamaccallum mode...   \n",
       "70  Jimmy Fallon responds to President Trump: \"You...   \n",
       "\n",
       "                        created_at                name  tweets_ago  \\\n",
       "66  Tue Jun 26 11:16:12 +0000 2018                 CNN          67   \n",
       "32  Tue Jun 26 16:51:27 +0000 2018                 CNN          33   \n",
       "36  Tue Jun 26 18:16:28 +0000 2018            Fox News          37   \n",
       "15  Tue Jun 26 20:35:05 +0000 2018            Fox News          16   \n",
       "70  Tue Jun 26 11:30:12 +0000 2018  The New York Times          71   \n",
       "\n",
       "                                                 sent    pos  neg    neu  \\\n",
       "66  {'neg': 0.0, 'neu': 1.0, 'pos': 0.0, 'compound...  0.000  0.0  1.000   \n",
       "32  {'neg': 0.0, 'neu': 1.0, 'pos': 0.0, 'compound...  0.000  0.0  1.000   \n",
       "36  {'neg': 0.0, 'neu': 0.824, 'pos': 0.176, 'comp...  0.176  0.0  0.824   \n",
       "15  {'neg': 0.0, 'neu': 1.0, 'pos': 0.0, 'compound...  0.000  0.0  1.000   \n",
       "70  {'neg': 0.0, 'neu': 1.0, 'pos': 0.0, 'compound...  0.000  0.0  1.000   \n",
       "\n",
       "    compound  \n",
       "66    0.0000  \n",
       "32    0.0000  \n",
       "36    0.4939  \n",
       "15    0.0000  \n",
       "70    0.0000  "
      ]
     },
     "execution_count": 18,
     "metadata": {},
     "output_type": "execute_result"
    }
   ],
   "source": [
    "shuffled.tail()"
   ]
  },
  {
   "cell_type": "code",
   "execution_count": 19,
   "metadata": {},
   "outputs": [
    {
     "data": {
      "text/html": [
       "<div>\n",
       "<style scoped>\n",
       "    .dataframe tbody tr th:only-of-type {\n",
       "        vertical-align: middle;\n",
       "    }\n",
       "\n",
       "    .dataframe tbody tr th {\n",
       "        vertical-align: top;\n",
       "    }\n",
       "\n",
       "    .dataframe thead th {\n",
       "        text-align: right;\n",
       "    }\n",
       "</style>\n",
       "<table border=\"1\" class=\"dataframe\">\n",
       "  <thead>\n",
       "    <tr style=\"text-align: right;\">\n",
       "      <th></th>\n",
       "      <th>pos</th>\n",
       "      <th>neg</th>\n",
       "      <th>neu</th>\n",
       "    </tr>\n",
       "  </thead>\n",
       "  <tbody>\n",
       "    <tr>\n",
       "      <th>count</th>\n",
       "      <td>500.000000</td>\n",
       "      <td>500.000000</td>\n",
       "      <td>500.000000</td>\n",
       "    </tr>\n",
       "    <tr>\n",
       "      <th>mean</th>\n",
       "      <td>0.083868</td>\n",
       "      <td>0.112022</td>\n",
       "      <td>0.804110</td>\n",
       "    </tr>\n",
       "    <tr>\n",
       "      <th>std</th>\n",
       "      <td>0.110780</td>\n",
       "      <td>0.127113</td>\n",
       "      <td>0.160923</td>\n",
       "    </tr>\n",
       "    <tr>\n",
       "      <th>min</th>\n",
       "      <td>0.000000</td>\n",
       "      <td>0.000000</td>\n",
       "      <td>0.323000</td>\n",
       "    </tr>\n",
       "    <tr>\n",
       "      <th>25%</th>\n",
       "      <td>0.000000</td>\n",
       "      <td>0.000000</td>\n",
       "      <td>0.689500</td>\n",
       "    </tr>\n",
       "    <tr>\n",
       "      <th>50%</th>\n",
       "      <td>0.000000</td>\n",
       "      <td>0.095000</td>\n",
       "      <td>0.816000</td>\n",
       "    </tr>\n",
       "    <tr>\n",
       "      <th>75%</th>\n",
       "      <td>0.159250</td>\n",
       "      <td>0.200000</td>\n",
       "      <td>1.000000</td>\n",
       "    </tr>\n",
       "    <tr>\n",
       "      <th>max</th>\n",
       "      <td>0.485000</td>\n",
       "      <td>0.675000</td>\n",
       "      <td>1.000000</td>\n",
       "    </tr>\n",
       "  </tbody>\n",
       "</table>\n",
       "</div>"
      ],
      "text/plain": [
       "              pos         neg         neu\n",
       "count  500.000000  500.000000  500.000000\n",
       "mean     0.083868    0.112022    0.804110\n",
       "std      0.110780    0.127113    0.160923\n",
       "min      0.000000    0.000000    0.323000\n",
       "25%      0.000000    0.000000    0.689500\n",
       "50%      0.000000    0.095000    0.816000\n",
       "75%      0.159250    0.200000    1.000000\n",
       "max      0.485000    0.675000    1.000000"
      ]
     },
     "execution_count": 19,
     "metadata": {},
     "output_type": "execute_result"
    }
   ],
   "source": [
    "shuffled[['pos', 'neg', 'neu']].describe()"
   ]
  },
  {
   "cell_type": "code",
   "execution_count": 20,
   "metadata": {},
   "outputs": [],
   "source": [
    "dfbar = shuffled[['name', 'compound']]"
   ]
  },
  {
   "cell_type": "code",
   "execution_count": 21,
   "metadata": {},
   "outputs": [],
   "source": [
    "dfbar = dfbar.groupby('name').mean()"
   ]
  },
  {
   "cell_type": "code",
   "execution_count": 33,
   "metadata": {},
   "outputs": [
    {
     "data": {
      "image/png": "[encoded data removed]",
      "text/plain": [
       "<matplotlib.figure.Figure at 0x1a17adfac8>"
      ]
     },
     "metadata": {},
     "output_type": "display_data"
    }
   ],
   "source": [
    "sent_bar = dfbar.plot.bar(color='c', title='Mean Compound Sentiment Score');"
   ]
  },
  {
   "cell_type": "code",
   "execution_count": 23,
   "metadata": {},
   "outputs": [
    {
     "data": {
      "image/png": "[encoded data removed]",
      "text/plain": [
       "<matplotlib.figure.Figure at 0x10c632ac8>"
      ]
     },
     "metadata": {},
     "output_type": "display_data"
    }
   ],
   "source": [
    "shuffled.plot.scatter(x='tweets_ago', y='compound', figsize=(10,10), s=30);"
   ]
  },
  {
   "cell_type": "code",
   "execution_count": 24,
   "metadata": {},
   "outputs": [],
   "source": [
    "import seaborn as sns"
   ]
  },
  {
   "cell_type": "code",
   "execution_count": 29,
   "metadata": {},
   "outputs": [
    {
     "data": {
      "image/png": "[encoded data removed]",
      "text/plain": [
       "<matplotlib.figure.Figure at 0x1a16cdb0b8>"
      ]
     },
     "metadata": {},
     "output_type": "display_data"
    }
   ],
   "source": [
    "sent_scatter = sns.lmplot( x=\"tweets_ago\", y=\"compound\", data=shuffled, fit_reg=False, hue='name', size=10, legend_out=True);"
   ]
  },
  {
   "cell_type": "code",
   "execution_count": 27,
   "metadata": {},
   "outputs": [],
   "source": [
    "shuffled.to_csv('tweet_sentiment.csv', sep='\\t')"
   ]
  },
  {
   "cell_type": "code",
   "execution_count": 31,
   "metadata": {},
   "outputs": [],
   "source": [
    "sent_scatter.savefig('sentiment_scatterplot.png')"
   ]
  },
  {
   "cell_type": "code",
   "execution_count": 35,
   "metadata": {},
   "outputs": [],
   "source": [
    "fig = sent_bar.get_figure()\n",
    "fig.savefig(\"sentiment_barchart.png\")"
   ]
  },
  {
   "cell_type": "code",
   "execution_count": null,
   "metadata": {},
   "outputs": [],
   "source": []
  }
 ],
 "metadata": {
  "kernelspec": {
   "display_name": "Python 3",
   "language": "python",
   "name": "python3"
  },
  "language_info": {
   "codemirror_mode": {
    "name": "ipython",
    "version": 3
   },
   "file_extension": ".py",
   "mimetype": "text/x-python",
   "name": "python",
   "nbconvert_exporter": "python",
   "pygments_lexer": "ipython3",
   "version": "3.6.4"
  }
 },
 "nbformat": 4,
 "nbformat_minor": 2
}
